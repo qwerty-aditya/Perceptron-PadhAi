{
  "nbformat": 4,
  "nbformat_minor": 0,
  "metadata": {
    "colab": {
      "name": "6th_last.ipynb",
      "version": "0.3.2",
      "provenance": [],
      "collapsed_sections": [],
      "toc_visible": true
    },
    "kernelspec": {
      "display_name": "Python 3",
      "language": "python",
      "name": "python3"
    }
  },
  "cells": [
    {
      "metadata": {
        "id": "y8zi5cmJ4VTG",
        "colab_type": "code",
        "colab": {}
      },
      "cell_type": "code",
      "source": [
        "import numpy as np\n",
        "import pandas as pd\n",
        "import matplotlib.pyplot as plt\n",
        "from sklearn.preprocessing import LabelEncoder,MinMaxScaler, StandardScaler\n",
        "from sklearn.model_selection import train_test_split, ParameterGrid\n",
        "from sklearn.metrics import accuracy_score, confusion_matrix, mean_squared_error, log_loss\n",
        "import operator\n",
        "import json\n",
        "from IPython import display\n",
        "import os\n",
        "import warnings\n",
        "\n",
        "np.random.seed(0)\n",
        "warnings.filterwarnings(\"ignore\")\n",
        "THRESHOLD = 4"
      ],
      "execution_count": 0,
      "outputs": []
    },
    {
      "metadata": {
        "id": "rNloM4l84VTU",
        "colab_type": "text"
      },
      "cell_type": "markdown",
      "source": [
        "Task: To predict whether the user likes the mobile phone or not. <br>\n",
        "Assumption: If the average rating of mobile >= threshold, then the user likes it, otherwise not."
      ]
    },
    {
      "metadata": {
        "id": "vIQ6VfEM4VTW",
        "colab_type": "text"
      },
      "cell_type": "markdown",
      "source": [
        "<b>Missing values:</b><br>\n",
        "'Also Known As'(459),'Applications'(421),'Audio Features'(437),'Bezel-less display'(266),'Browser'(449),'Build Material'(338),'Co-Processor'(451),'Display Colour'(457),'Mobile High-Definition Link(MHL)'(472),'Music'(447)\n",
        "'Email','Fingerprint Sensor Position'(174),'Games'(446),'HDMI'(454),'Heart Rate Monitor'(467),'IRIS Scanner'(467),\n",
        "'Optical Image Stabilisation'(219),'Other Facilities'(444),'Phone Book'(444),'Physical Aperture'(87),'Quick Charging'(122),'Ring Tone'(444),'Ruggedness'(430),SAR Value(315),'SIM 3'(472),'SMS'(470)', 'Screen Protection'(229),'Screen to Body Ratio (claimed by the brand)'(428),'Sensor'(242),'Software Based Aperture'(473),\n",
        "'Special Features'(459),'Standby time'(334),'Stylus'(473),'TalkTime'(259), 'USB Type-C'(374),'Video Player'(456),\n",
        "'Video Recording Features'(458),'Waterproof'(398),'Wireless Charging','USB OTG Support'(159), 'Video ,'Recording'(113),'Java'(471),'Browser'(448)\n",
        "\n",
        "<b>Very low variance:</b><br>\n",
        "'Architecture'(most entries are 64-bit),'Audio Jack','GPS','Loudspeaker','Network','Network Support','Other Sensors'(28),'SIM Size', 'VoLTE'\n",
        "\n",
        "\n",
        "<b>Multivalued:</b><br>\n",
        "'Colours','Custom UI','Model'(1),'Other Sensors','Launch Date'\n",
        "\n",
        "<b>Not important:</b><br>\n",
        "'Bluetooth', 'Settings'(75),'Wi-Fi','Wi-Fi Features'\n",
        "\n",
        "<b>Doubtful:</b><br>\n",
        "'Aspect Ratio','Autofocus','Brand','Camera Features','Fingerprint Sensor'(very few entries are missing),\n",
        "'Fingerprint Sensor Position', 'Graphics'(multivalued),'Image resolution'(multivalued),'SIM Size','Sim Slot(s)', 'User Available Storage', 'SIM 1', 'SIM 2','Shooting Modes', 'Touch Screen'(24), 'USB Connectivity'\n",
        "    \n",
        "<b>To check:</b><br>\n",
        "'Display Type','Expandable Memory','FM Radio'\n",
        "\n",
        "<b>High Correlation with other features</b><br>\n",
        "'SIM Slot(s)' high correlation with SIM1\n",
        "'Weight' has high high correlation with capacity , screen-to-body ratio\n",
        "'Height' - screen size is also there\n",
        "    \n",
        "<b>Given a mobile, we can't directly get these features</b><br>\n",
        "'Rating Count', 'Review Count'\n",
        "\n",
        "<b>Keeping:</b><br>\n",
        "'Capacity','Flash'(17),'Height'(22),'Internal Memory'(20, require cleaning),'Operating System'(25, require cleaning), 'Pixel Density'(1, clean it),'Processor'(22, clean it), 'RAM'(17, clean), 'Rating','Resolution'(cleaning), 'Screen Resolution','Screen Size', 'Thickness'(22), 'Type','User Replaceable','Weight'(cleaning),'Sim Size'(), 'Other Sensors'(28), 'Screen to Body Ratio (calculated)','Width',\n"
      ]
    },
    {
      "metadata": {
        "id": "mi0OUTOX4VTa",
        "colab_type": "code",
        "outputId": "7f476413-5667-4a2a-ef5b-b397e59b529b",
        "colab": {
          "base_uri": "https://localhost:8080/",
          "height": 90
        }
      },
      "cell_type": "code",
      "source": [
        "# read data from file\n",
        "train = pd.read_csv(\"train.csv\") \n",
        "test = pd.read_csv(\"test.csv\")\n",
        "\n",
        "# check the number of features and data points in train\n",
        "print(\"Number of data points in train: %d\" % train.shape[0])\n",
        "print(\"Number of features in train: %d\" % train.shape[1])\n",
        "\n",
        "# check the number of features and data points in test\n",
        "print(\"Number of data points in test: %d\" % test.shape[0])\n",
        "print(\"Number of features in test: %d\" % test.shape[1])"
      ],
      "execution_count": 550,
      "outputs": [
        {
          "output_type": "stream",
          "text": [
            "Number of data points in train: 355\n",
            "Number of features in train: 99\n",
            "Number of data points in test: 119\n",
            "Number of features in test: 98\n"
          ],
          "name": "stdout"
        }
      ]
    },
    {
      "metadata": {
        "id": "iIe79D1_4VTl",
        "colab_type": "code",
        "colab": {}
      },
      "cell_type": "code",
      "source": [
        "def data_clean(data):\n",
        "    \n",
        "    # Let's first remove all missing value features\n",
        "    columns_to_remove = ['Also Known As','Applications','Audio Features','Bezel-less display'\n",
        "                         'Browser','Build Material','Co-Processor','Browser'\n",
        "                         'Display Colour','Mobile High-Definition Link(MHL)',\n",
        "                         'Music', 'Email','Fingerprint Sensor Position',\n",
        "                         'Games','HDMI','Heart Rate Monitor','IRIS Scanner', \n",
        "                         'Optical Image Stabilisation','Other Facilities',\n",
        "                         'Phone Book','Physical Aperture','Quick Charging',\n",
        "                         'Ring Tone','Ruggedness','SAR Value','SIM 3','SMS',\n",
        "                         'Screen Protection','Screen to Body Ratio (claimed by the brand)',\n",
        "                         'Sensor','Software Based Aperture', 'Special Features',\n",
        "                         'Standby time','Stylus','TalkTime', 'USB Type-C',\n",
        "                         'Video Player', 'Video Recording Features','Waterproof',\n",
        "                         'Wireless Charging','USB OTG Support', 'Video Recording','Java']\n",
        "\n",
        "    columns_to_retain = list(set(data.columns)-set(columns_to_remove))\n",
        "    data = data[columns_to_retain]\n",
        "\n",
        "    #Features having very low variance \n",
        "    columns_to_remove = ['Architecture','Audio Jack','GPS','Loudspeaker','Network','Network Support','VoLTE']\n",
        "    columns_to_retain = list(set(data.columns)-set(columns_to_remove))\n",
        "    data = data[columns_to_retain]\n",
        "\n",
        "    # Multivalued:\n",
        "    columns_to_remove = ['Architecture','Launch Date','Audio Jack','GPS','Loudspeaker','Network','Network Support','VoLTE', 'Custom UI']\n",
        "    columns_to_retain = list(set(data.columns)-set(columns_to_remove))\n",
        "    data = data[columns_to_retain]\n",
        "\n",
        "    # Not much important\n",
        "    columns_to_remove = ['Bluetooth', 'Settings','Wi-Fi','Wi-Fi Features']\n",
        "    columns_to_retain = list(set(data.columns)-set(columns_to_remove))\n",
        "    data = data[columns_to_retain]\n",
        "    \n",
        "    return data"
      ],
      "execution_count": 0,
      "outputs": []
    },
    {
      "metadata": {
        "id": "e3x-ZpOU4VTr",
        "colab_type": "text"
      },
      "cell_type": "markdown",
      "source": [
        "# Removing features"
      ]
    },
    {
      "metadata": {
        "id": "hssyah074VTu",
        "colab_type": "code",
        "colab": {}
      },
      "cell_type": "code",
      "source": [
        "train = data_clean(train)\n",
        "test = data_clean(test)"
      ],
      "execution_count": 0,
      "outputs": []
    },
    {
      "metadata": {
        "id": "Pmb9uVaH4VT0",
        "colab_type": "text"
      },
      "cell_type": "markdown",
      "source": [
        "removing all those data points in which more than 15 features are missing "
      ]
    },
    {
      "metadata": {
        "id": "a3FQ95YT4VT2",
        "colab_type": "code",
        "colab": {}
      },
      "cell_type": "code",
      "source": [
        "train = train[(train.isnull().sum(axis=1) <= 15)]\n",
        "# You shouldn't remove data points from test set\n",
        "#test = test[(test.isnull().sum(axis=1) <= 15)]"
      ],
      "execution_count": 0,
      "outputs": []
    },
    {
      "metadata": {
        "id": "80GzXsPT4VT8",
        "colab_type": "code",
        "outputId": "1e26cdb2-091f-4bab-db33-9d4bab7c55da",
        "colab": {
          "base_uri": "https://localhost:8080/",
          "height": 90
        }
      },
      "cell_type": "code",
      "source": [
        "# check the number of features and data points in train\n",
        "print(\"Number of data points in train: %d\" % train.shape[0])\n",
        "print(\"Number of features in train: %d\" % train.shape[1])\n",
        "\n",
        "# check the number of features and data points in test\n",
        "print(\"Number of data points in test: %d\" % test.shape[0])\n",
        "print(\"Number of features in test: %d\" % test.shape[1])"
      ],
      "execution_count": 554,
      "outputs": [
        {
          "output_type": "stream",
          "text": [
            "Number of data points in train: 341\n",
            "Number of features in train: 47\n",
            "Number of data points in test: 119\n",
            "Number of features in test: 46\n"
          ],
          "name": "stdout"
        }
      ]
    },
    {
      "metadata": {
        "id": "g8xBlxMq4VUI",
        "colab_type": "text"
      },
      "cell_type": "markdown",
      "source": [
        "# Filling Missing values"
      ]
    },
    {
      "metadata": {
        "id": "Lbq6my3D4VUL",
        "colab_type": "code",
        "colab": {}
      },
      "cell_type": "code",
      "source": [
        "def for_integer(test):\n",
        "    try:\n",
        "        test = test.strip()\n",
        "        return int(test.split(' ')[0])\n",
        "    except IOError:\n",
        "           pass\n",
        "    except ValueError:\n",
        "        pass\n",
        "    except:\n",
        "        pass\n",
        "\n",
        "def for_string(test):\n",
        "    try:\n",
        "        test = test.strip()\n",
        "        return (test.split(' ')[0])\n",
        "    except IOError:\n",
        "        pass\n",
        "    except ValueError:\n",
        "        pass\n",
        "    except:\n",
        "        pass\n",
        "\n",
        "def for_float(test):\n",
        "    try:\n",
        "        test = test.strip()\n",
        "        return float(test.split(' ')[0])\n",
        "    except IOError:\n",
        "        pass\n",
        "    except ValueError:\n",
        "        pass\n",
        "    except:\n",
        "        pass\n",
        "def find_freq(test):\n",
        "    try:\n",
        "        test = test.strip()\n",
        "        test = test.split(' ')\n",
        "        if test[2][0] == '(':\n",
        "            return float(test[2][1:])\n",
        "        return float(test[2])\n",
        "    except IOError:\n",
        "        pass\n",
        "    except ValueError:\n",
        "        pass\n",
        "    except:\n",
        "        pass\n",
        "\n",
        "    \n",
        "def for_Internal_Memory(test):\n",
        "    try:\n",
        "        test = test.strip()\n",
        "        test = test.split(' ')\n",
        "        if test[1] == 'GB':\n",
        "            return int(test[0])\n",
        "        if test[1] == 'MB':\n",
        "#             print(\"here\")\n",
        "            return (int(test[0]) * 0.001)\n",
        "    except IOError:\n",
        "           pass\n",
        "    except ValueError:\n",
        "        pass\n",
        "    except:\n",
        "        pass\n",
        "    \n",
        "def find_freq(test):\n",
        "    try:\n",
        "        test = test.strip()\n",
        "        test = test.split(' ')\n",
        "        if test[2][0] == '(':\n",
        "            return float(test[2][1:])\n",
        "        return float(test[2])\n",
        "    except IOError:\n",
        "        pass\n",
        "    except ValueError:\n",
        "        pass\n",
        "    except:\n",
        "        pass\n"
      ],
      "execution_count": 0,
      "outputs": []
    },
    {
      "metadata": {
        "id": "0JayxiPs4VUZ",
        "colab_type": "code",
        "colab": {}
      },
      "cell_type": "code",
      "source": [
        "def data_clean_2(x):\n",
        "    data = x.copy()\n",
        "    \n",
        "    data['Capacity'] = data['Capacity'].apply(for_integer)\n",
        "\n",
        "    data['Height'] = data['Height'].apply(for_float)\n",
        "    data['Height'] = data['Height'].fillna(data['Height'].mean())\n",
        "\n",
        "    data['Internal Memory'] = data['Internal Memory'].apply(for_Internal_Memory)\n",
        "\n",
        "    data['Pixel Density'] = data['Pixel Density'].apply(for_integer)\n",
        "\n",
        "    data['Internal Memory'] = data['Internal Memory'].fillna(data['Internal Memory'].median())\n",
        "    data['Internal Memory'] = data['Internal Memory'].astype(int)\n",
        "\n",
        "    data['RAM'] = data['RAM'].apply(for_integer)\n",
        "    data['RAM'] = data['RAM'].fillna(data['RAM'].median())\n",
        "    data['RAM'] = data['RAM'].astype(int)\n",
        "\n",
        "    data['Resolution'] = data['Resolution'].apply(for_integer)\n",
        "    data['Resolution'] = data['Resolution'].fillna(data['Resolution'].median())\n",
        "    data['Resolution'] = data['Resolution'].astype(int)\n",
        "\n",
        "    data['Screen Size'] = data['Screen Size'].apply(for_float)\n",
        "\n",
        "    data['Thickness'] = data['Thickness'].apply(for_float)\n",
        "    data['Thickness'] = data['Thickness'].fillna(data['Thickness'].mean())\n",
        "    data['Thickness'] = data['Thickness'].round(2)\n",
        "\n",
        "    data['Type'] = data['Type'].fillna('Li-Polymer')\n",
        "\n",
        "    data['Screen to Body Ratio (calculated)'] = data['Screen to Body Ratio (calculated)'].apply(for_float)\n",
        "    data['Screen to Body Ratio (calculated)'] = data['Screen to Body Ratio (calculated)'].fillna(data['Screen to Body Ratio (calculated)'].mean())\n",
        "    data['Screen to Body Ratio (calculated)'] = data['Screen to Body Ratio (calculated)'].round(2)\n",
        "\n",
        "    data['Width'] = data['Width'].apply(for_float)\n",
        "    data['Width'] = data['Width'].fillna(data['Width'].mean())\n",
        "    data['Width'] = data['Width'].round(2)\n",
        "\n",
        "    data['Flash'][data['Flash'].isna() == True] = \"Other\"\n",
        "\n",
        "    data['User Replaceable'][data['User Replaceable'].isna() == True] = \"Other\"\n",
        "\n",
        "    data['Num_cores'] = data['Processor'].apply(for_string)\n",
        "    data['Num_cores'][data['Num_cores'].isna() == True] = \"Other\"\n",
        "\n",
        "\n",
        "    data['Processor_frequency'] = data['Processor'].apply(find_freq)\n",
        "    #because there is one entry with 208MHz values, to convert it to GHz\n",
        "    data['Processor_frequency'][data['Processor_frequency'] > 200] = 0.208\n",
        "    data['Processor_frequency'] = data['Processor_frequency'].fillna(data['Processor_frequency'].mean())\n",
        "    data['Processor_frequency'] = data['Processor_frequency'].round(2)\n",
        "\n",
        "    data['Camera Features'][data['Camera Features'].isna() == True] = \"Other\"\n",
        "\n",
        "    #simplifyig Operating System to os_name for simplicity\n",
        "    data['os_name'] = data['Operating System'].apply(for_string)\n",
        "    data['os_name'][data['os_name'].isna() == True] = \"Other\"\n",
        "\n",
        "    data['Sim1'] = data['SIM 1'].apply(for_string)\n",
        "\n",
        "    data['SIM Size'][data['SIM Size'].isna() == True] = \"Other\"\n",
        "\n",
        "    data['Image Resolution'][data['Image Resolution'].isna() == True] = \"Other\"\n",
        "\n",
        "    data['Fingerprint Sensor'][data['Fingerprint Sensor'].isna() == True] = \"Other\"\n",
        "\n",
        "    data['Expandable Memory'][data['Expandable Memory'].isna() == True] = \"No\"\n",
        "\n",
        "    data['Weight'] = data['Weight'].apply(for_integer)\n",
        "    data['Weight'] = data['Weight'].fillna(data['Weight'].mean())\n",
        "    data['Weight'] = data['Weight'].astype(int)\n",
        "\n",
        "    data['SIM 2'] = data['SIM 2'].apply(for_string)\n",
        "    data['SIM 2'][data['SIM 2'].isna() == True] = \"Other\"\n",
        "    \n",
        "    return data"
      ],
      "execution_count": 0,
      "outputs": []
    },
    {
      "metadata": {
        "id": "Anp_k_kV4VUe",
        "colab_type": "code",
        "outputId": "193d25a0-4068-4897-d4d6-af0a47a817a7",
        "colab": {
          "base_uri": "https://localhost:8080/",
          "height": 90
        }
      },
      "cell_type": "code",
      "source": [
        "train = data_clean_2(train)\n",
        "test = data_clean_2(test)\n",
        "\n",
        "# check the number of features and data points in train\n",
        "print(\"Number of data points in train: %d\" % train.shape[0])\n",
        "print(\"Number of features in train: %d\" % train.shape[1])\n",
        "\n",
        "# check the number of features and data points in test\n",
        "print(\"Number of data points in test: %d\" % test.shape[0])\n",
        "print(\"Number of features in test: %d\" % test.shape[1])"
      ],
      "execution_count": 557,
      "outputs": [
        {
          "output_type": "stream",
          "text": [
            "Number of data points in train: 341\n",
            "Number of features in train: 51\n",
            "Number of data points in test: 119\n",
            "Number of features in test: 50\n"
          ],
          "name": "stdout"
        }
      ]
    },
    {
      "metadata": {
        "id": "PGzIyW-L4VUm",
        "colab_type": "text"
      },
      "cell_type": "markdown",
      "source": [
        "Not very important feature"
      ]
    },
    {
      "metadata": {
        "id": "RueUYONf4VUo",
        "colab_type": "code",
        "colab": {}
      },
      "cell_type": "code",
      "source": [
        "def data_clean_3(x):\n",
        "    \n",
        "    data = x.copy()\n",
        "\n",
        "    columns_to_remove = ['User Available Storage','SIM Size','Chipset','Processor','Autofocus','Aspect Ratio','Touch Screen',\n",
        "                        'Bezel-less display','Operating System','SIM 1','USB Connectivity','Other Sensors','Graphics','FM Radio',\n",
        "                        'NFC','Shooting Modes','Browser','Display Colour' ]\n",
        "\n",
        "    columns_to_retain = list(set(data.columns)-set(columns_to_remove))\n",
        "    data = data[columns_to_retain]\n",
        "\n",
        "\n",
        "    columns_to_remove = [ 'Screen Resolution','User Replaceable','Camera Features',\n",
        "                        'Thickness', 'Display Type']\n",
        "\n",
        "    columns_to_retain = list(set(data.columns)-set(columns_to_remove))\n",
        "    data = data[columns_to_retain]\n",
        "\n",
        "\n",
        "    columns_to_remove = ['Fingerprint Sensor', 'Flash', 'Rating Count', 'Review Count','Image Resolution','Type','Expandable Memory',\\\n",
        "                        'Colours','Width','Model']\n",
        "    columns_to_retain = list(set(data.columns)-set(columns_to_remove))\n",
        "    data = data[columns_to_retain]\n",
        "\n",
        "    return data"
      ],
      "execution_count": 0,
      "outputs": []
    },
    {
      "metadata": {
        "id": "3HWTdu5a4VUv",
        "colab_type": "code",
        "outputId": "2e799537-5078-4f39-d97e-acd7a1b95f98",
        "colab": {
          "base_uri": "https://localhost:8080/",
          "height": 90
        }
      },
      "cell_type": "code",
      "source": [
        "train = data_clean_3(train)\n",
        "test = data_clean_3(test)\n",
        "\n",
        "# check the number of features and data points in train\n",
        "print(\"Number of data points in train: %d\" % train.shape[0])\n",
        "print(\"Number of features in train: %d\" % train.shape[1])\n",
        "\n",
        "# check the number of features and data points in test\n",
        "print(\"Number of data points in test: %d\" % test.shape[0])\n",
        "print(\"Number of features in test: %d\" % test.shape[1])"
      ],
      "execution_count": 559,
      "outputs": [
        {
          "output_type": "stream",
          "text": [
            "Number of data points in train: 341\n",
            "Number of features in train: 18\n",
            "Number of data points in test: 119\n",
            "Number of features in test: 17\n"
          ],
          "name": "stdout"
        }
      ]
    },
    {
      "metadata": {
        "id": "XSVPo33Q4VU2",
        "colab_type": "code",
        "outputId": "09ffb5f0-da28-4cb5-facf-b322ca6e7a82",
        "colab": {
          "base_uri": "https://localhost:8080/",
          "height": 598
        }
      },
      "cell_type": "code",
      "source": [
        "# one hot encoding\n",
        "\n",
        "train_ids = train['PhoneId']\n",
        "test_ids = test['PhoneId']\n",
        "\n",
        "cols = list(test.columns)\n",
        "cols.remove('PhoneId')\n",
        "cols.insert(0, 'PhoneId')\n",
        "\n",
        "combined = pd.concat([train.drop('Rating', axis=1)[cols], test[cols]])\n",
        "print(combined.shape)\n",
        "print(combined.columns)\n",
        "\n",
        "combined = pd.get_dummies(combined)\n",
        "print(combined.shape)\n",
        "print(combined.columns)\n",
        "\n",
        "train_new = combined[combined['PhoneId'].isin(train_ids)]\n",
        "test_new = combined[combined['PhoneId'].isin(test_ids)]"
      ],
      "execution_count": 560,
      "outputs": [
        {
          "output_type": "stream",
          "text": [
            "(460, 17)\n",
            "Index(['PhoneId', 'Resolution', 'os_name', 'Screen Size', 'Brand', 'Sim1',\n",
            "       'SIM 2', 'Screen to Body Ratio (calculated)', 'Pixel Density', 'Weight',\n",
            "       'Capacity', 'SIM Slot(s)', 'RAM', 'Num_cores', 'Processor_frequency',\n",
            "       'Internal Memory', 'Height'],\n",
            "      dtype='object')\n",
            "(460, 87)\n",
            "Index(['PhoneId', 'Resolution', 'Screen Size',\n",
            "       'Screen to Body Ratio (calculated)', 'Pixel Density', 'Weight',\n",
            "       'Capacity', 'RAM', 'Processor_frequency', 'Internal Memory', 'Height',\n",
            "       'os_name_Android', 'os_name_Blackberry', 'os_name_KAI', 'os_name_Nokia',\n",
            "       'os_name_Other', 'os_name_Tizen', 'os_name_iOS', 'Brand_10.or',\n",
            "       'Brand_Apple', 'Brand_Asus', 'Brand_Billion', 'Brand_Blackberry',\n",
            "       'Brand_Comio', 'Brand_Coolpad', 'Brand_Do', 'Brand_Gionee',\n",
            "       'Brand_Google', 'Brand_HTC', 'Brand_Honor', 'Brand_Huawei',\n",
            "       'Brand_InFocus', 'Brand_Infinix', 'Brand_Intex', 'Brand_Itel',\n",
            "       'Brand_Jivi', 'Brand_Karbonn', 'Brand_LG', 'Brand_Lava', 'Brand_LeEco',\n",
            "       'Brand_Lenovo', 'Brand_Lephone', 'Brand_Lyf', 'Brand_Meizu',\n",
            "       'Brand_Micromax', 'Brand_Mobiistar', 'Brand_Moto', 'Brand_Motorola',\n",
            "       'Brand_Nokia', 'Brand_Nubia', 'Brand_OPPO', 'Brand_OnePlus',\n",
            "       'Brand_Oppo', 'Brand_Panasonic', 'Brand_Razer', 'Brand_Realme',\n",
            "       'Brand_Reliance', 'Brand_Samsung', 'Brand_Sony', 'Brand_Spice',\n",
            "       'Brand_Tecno', 'Brand_Ulefone', 'Brand_VOTO', 'Brand_Vivo',\n",
            "       'Brand_Xiaomi', 'Brand_Xiaomi Poco', 'Brand_Yu', 'Brand_iVooMi',\n",
            "       'Sim1_2G', 'Sim1_3G', 'Sim1_4G', 'SIM 2_2G', 'SIM 2_3G', 'SIM 2_4G',\n",
            "       'SIM 2_Other', 'SIM Slot(s)_Dual SIM, GSM+CDMA',\n",
            "       'SIM Slot(s)_Dual SIM, GSM+GSM',\n",
            "       'SIM Slot(s)_Dual SIM, GSM+GSM, Dual VoLTE',\n",
            "       'SIM Slot(s)_Single SIM, GSM', 'Num_cores_312', 'Num_cores_Deca',\n",
            "       'Num_cores_Dual', 'Num_cores_Hexa', 'Num_cores_Octa', 'Num_cores_Other',\n",
            "       'Num_cores_Quad', 'Num_cores_Tru-Octa'],\n",
            "      dtype='object')\n"
          ],
          "name": "stdout"
        }
      ]
    },
    {
      "metadata": {
        "id": "xryXp3M_4VU9",
        "colab_type": "code",
        "colab": {}
      },
      "cell_type": "code",
      "source": [
        "train_new = train_new.merge(train[['PhoneId', 'Rating']], on='PhoneId')"
      ],
      "execution_count": 0,
      "outputs": []
    },
    {
      "metadata": {
        "id": "nqtcdcLV4VVD",
        "colab_type": "code",
        "outputId": "d3e8bed6-ffd3-42e8-edc2-0dc89de4b6a7",
        "colab": {
          "base_uri": "https://localhost:8080/",
          "height": 90
        }
      },
      "cell_type": "code",
      "source": [
        "# check the number of features and data points in train\n",
        "print(\"Number of data points in train: %d\" % train_new.shape[0])\n",
        "print(\"Number of features in train: %d\" % train_new.shape[1])\n",
        "\n",
        "# check the number of features and data points in test\n",
        "print(\"Number of data points in test: %d\" % test_new.shape[0])\n",
        "print(\"Number of features in test: %d\" % test_new.shape[1])"
      ],
      "execution_count": 562,
      "outputs": [
        {
          "output_type": "stream",
          "text": [
            "Number of data points in train: 341\n",
            "Number of features in train: 88\n",
            "Number of data points in test: 119\n",
            "Number of features in test: 87\n"
          ],
          "name": "stdout"
        }
      ]
    },
    {
      "metadata": {
        "id": "QVbHHV_24VVP",
        "colab_type": "code",
        "outputId": "1a1eeac5-3305-45e7-bd10-d586e6c24ee0",
        "colab": {
          "base_uri": "https://localhost:8080/",
          "height": 290
        }
      },
      "cell_type": "code",
      "source": [
        "train_new.head()"
      ],
      "execution_count": 563,
      "outputs": [
        {
          "output_type": "execute_result",
          "data": {
            "text/html": [
              "<div>\n",
              "<style scoped>\n",
              "    .dataframe tbody tr th:only-of-type {\n",
              "        vertical-align: middle;\n",
              "    }\n",
              "\n",
              "    .dataframe tbody tr th {\n",
              "        vertical-align: top;\n",
              "    }\n",
              "\n",
              "    .dataframe thead th {\n",
              "        text-align: right;\n",
              "    }\n",
              "</style>\n",
              "<table border=\"1\" class=\"dataframe\">\n",
              "  <thead>\n",
              "    <tr style=\"text-align: right;\">\n",
              "      <th></th>\n",
              "      <th>PhoneId</th>\n",
              "      <th>Resolution</th>\n",
              "      <th>Screen Size</th>\n",
              "      <th>Screen to Body Ratio (calculated)</th>\n",
              "      <th>Pixel Density</th>\n",
              "      <th>Weight</th>\n",
              "      <th>Capacity</th>\n",
              "      <th>RAM</th>\n",
              "      <th>Processor_frequency</th>\n",
              "      <th>Internal Memory</th>\n",
              "      <th>...</th>\n",
              "      <th>SIM Slot(s)_Single SIM, GSM</th>\n",
              "      <th>Num_cores_312</th>\n",
              "      <th>Num_cores_Deca</th>\n",
              "      <th>Num_cores_Dual</th>\n",
              "      <th>Num_cores_Hexa</th>\n",
              "      <th>Num_cores_Octa</th>\n",
              "      <th>Num_cores_Other</th>\n",
              "      <th>Num_cores_Quad</th>\n",
              "      <th>Num_cores_Tru-Octa</th>\n",
              "      <th>Rating</th>\n",
              "    </tr>\n",
              "  </thead>\n",
              "  <tbody>\n",
              "    <tr>\n",
              "      <th>0</th>\n",
              "      <td>0</td>\n",
              "      <td>20</td>\n",
              "      <td>6.26</td>\n",
              "      <td>80.68</td>\n",
              "      <td>403</td>\n",
              "      <td>182</td>\n",
              "      <td>4000</td>\n",
              "      <td>4</td>\n",
              "      <td>1.8</td>\n",
              "      <td>64</td>\n",
              "      <td>...</td>\n",
              "      <td>0</td>\n",
              "      <td>0</td>\n",
              "      <td>0</td>\n",
              "      <td>0</td>\n",
              "      <td>0</td>\n",
              "      <td>1</td>\n",
              "      <td>0</td>\n",
              "      <td>0</td>\n",
              "      <td>0</td>\n",
              "      <td>4.5</td>\n",
              "    </tr>\n",
              "    <tr>\n",
              "      <th>1</th>\n",
              "      <td>1</td>\n",
              "      <td>8</td>\n",
              "      <td>6.20</td>\n",
              "      <td>80.85</td>\n",
              "      <td>271</td>\n",
              "      <td>168</td>\n",
              "      <td>4230</td>\n",
              "      <td>3</td>\n",
              "      <td>1.8</td>\n",
              "      <td>32</td>\n",
              "      <td>...</td>\n",
              "      <td>0</td>\n",
              "      <td>0</td>\n",
              "      <td>0</td>\n",
              "      <td>0</td>\n",
              "      <td>0</td>\n",
              "      <td>1</td>\n",
              "      <td>0</td>\n",
              "      <td>0</td>\n",
              "      <td>0</td>\n",
              "      <td>4.5</td>\n",
              "    </tr>\n",
              "    <tr>\n",
              "      <th>2</th>\n",
              "      <td>2</td>\n",
              "      <td>25</td>\n",
              "      <td>6.30</td>\n",
              "      <td>83.68</td>\n",
              "      <td>409</td>\n",
              "      <td>168</td>\n",
              "      <td>3500</td>\n",
              "      <td>3</td>\n",
              "      <td>2.1</td>\n",
              "      <td>32</td>\n",
              "      <td>...</td>\n",
              "      <td>0</td>\n",
              "      <td>0</td>\n",
              "      <td>0</td>\n",
              "      <td>0</td>\n",
              "      <td>0</td>\n",
              "      <td>1</td>\n",
              "      <td>0</td>\n",
              "      <td>0</td>\n",
              "      <td>0</td>\n",
              "      <td>4.4</td>\n",
              "    </tr>\n",
              "    <tr>\n",
              "      <th>3</th>\n",
              "      <td>4</td>\n",
              "      <td>24</td>\n",
              "      <td>6.00</td>\n",
              "      <td>74.78</td>\n",
              "      <td>411</td>\n",
              "      <td>169</td>\n",
              "      <td>3300</td>\n",
              "      <td>4</td>\n",
              "      <td>2.2</td>\n",
              "      <td>64</td>\n",
              "      <td>...</td>\n",
              "      <td>0</td>\n",
              "      <td>0</td>\n",
              "      <td>0</td>\n",
              "      <td>0</td>\n",
              "      <td>0</td>\n",
              "      <td>1</td>\n",
              "      <td>0</td>\n",
              "      <td>0</td>\n",
              "      <td>0</td>\n",
              "      <td>4.3</td>\n",
              "    </tr>\n",
              "    <tr>\n",
              "      <th>4</th>\n",
              "      <td>5</td>\n",
              "      <td>16</td>\n",
              "      <td>6.50</td>\n",
              "      <td>84.23</td>\n",
              "      <td>396</td>\n",
              "      <td>175</td>\n",
              "      <td>3750</td>\n",
              "      <td>4</td>\n",
              "      <td>2.2</td>\n",
              "      <td>64</td>\n",
              "      <td>...</td>\n",
              "      <td>0</td>\n",
              "      <td>0</td>\n",
              "      <td>0</td>\n",
              "      <td>0</td>\n",
              "      <td>0</td>\n",
              "      <td>1</td>\n",
              "      <td>0</td>\n",
              "      <td>0</td>\n",
              "      <td>0</td>\n",
              "      <td>4.4</td>\n",
              "    </tr>\n",
              "  </tbody>\n",
              "</table>\n",
              "<p>5 rows × 88 columns</p>\n",
              "</div>"
            ],
            "text/plain": [
              "   PhoneId  Resolution  Screen Size  Screen to Body Ratio (calculated)  \\\n",
              "0        0          20         6.26                              80.68   \n",
              "1        1           8         6.20                              80.85   \n",
              "2        2          25         6.30                              83.68   \n",
              "3        4          24         6.00                              74.78   \n",
              "4        5          16         6.50                              84.23   \n",
              "\n",
              "   Pixel Density  Weight  Capacity  RAM  Processor_frequency  Internal Memory  \\\n",
              "0            403     182      4000    4                  1.8               64   \n",
              "1            271     168      4230    3                  1.8               32   \n",
              "2            409     168      3500    3                  2.1               32   \n",
              "3            411     169      3300    4                  2.2               64   \n",
              "4            396     175      3750    4                  2.2               64   \n",
              "\n",
              "    ...    SIM Slot(s)_Single SIM, GSM  Num_cores_312  Num_cores_Deca  \\\n",
              "0   ...                              0              0               0   \n",
              "1   ...                              0              0               0   \n",
              "2   ...                              0              0               0   \n",
              "3   ...                              0              0               0   \n",
              "4   ...                              0              0               0   \n",
              "\n",
              "   Num_cores_Dual  Num_cores_Hexa  Num_cores_Octa  Num_cores_Other  \\\n",
              "0               0               0               1                0   \n",
              "1               0               0               1                0   \n",
              "2               0               0               1                0   \n",
              "3               0               0               1                0   \n",
              "4               0               0               1                0   \n",
              "\n",
              "   Num_cores_Quad  Num_cores_Tru-Octa  Rating  \n",
              "0               0                   0     4.5  \n",
              "1               0                   0     4.5  \n",
              "2               0                   0     4.4  \n",
              "3               0                   0     4.3  \n",
              "4               0                   0     4.4  \n",
              "\n",
              "[5 rows x 88 columns]"
            ]
          },
          "metadata": {
            "tags": []
          },
          "execution_count": 563
        }
      ]
    },
    {
      "metadata": {
        "id": "eOnrYeFB4VVb",
        "colab_type": "code",
        "outputId": "4fcb75ba-9159-4857-fa96-cf294d82c4e8",
        "colab": {
          "base_uri": "https://localhost:8080/",
          "height": 325
        }
      },
      "cell_type": "code",
      "source": [
        "test_new.head()"
      ],
      "execution_count": 564,
      "outputs": [
        {
          "output_type": "execute_result",
          "data": {
            "text/html": [
              "<div>\n",
              "<style scoped>\n",
              "    .dataframe tbody tr th:only-of-type {\n",
              "        vertical-align: middle;\n",
              "    }\n",
              "\n",
              "    .dataframe tbody tr th {\n",
              "        vertical-align: top;\n",
              "    }\n",
              "\n",
              "    .dataframe thead th {\n",
              "        text-align: right;\n",
              "    }\n",
              "</style>\n",
              "<table border=\"1\" class=\"dataframe\">\n",
              "  <thead>\n",
              "    <tr style=\"text-align: right;\">\n",
              "      <th></th>\n",
              "      <th>PhoneId</th>\n",
              "      <th>Resolution</th>\n",
              "      <th>Screen Size</th>\n",
              "      <th>Screen to Body Ratio (calculated)</th>\n",
              "      <th>Pixel Density</th>\n",
              "      <th>Weight</th>\n",
              "      <th>Capacity</th>\n",
              "      <th>RAM</th>\n",
              "      <th>Processor_frequency</th>\n",
              "      <th>Internal Memory</th>\n",
              "      <th>...</th>\n",
              "      <th>SIM Slot(s)_Dual SIM, GSM+GSM, Dual VoLTE</th>\n",
              "      <th>SIM Slot(s)_Single SIM, GSM</th>\n",
              "      <th>Num_cores_312</th>\n",
              "      <th>Num_cores_Deca</th>\n",
              "      <th>Num_cores_Dual</th>\n",
              "      <th>Num_cores_Hexa</th>\n",
              "      <th>Num_cores_Octa</th>\n",
              "      <th>Num_cores_Other</th>\n",
              "      <th>Num_cores_Quad</th>\n",
              "      <th>Num_cores_Tru-Octa</th>\n",
              "    </tr>\n",
              "  </thead>\n",
              "  <tbody>\n",
              "    <tr>\n",
              "      <th>0</th>\n",
              "      <td>3</td>\n",
              "      <td>5</td>\n",
              "      <td>6.20</td>\n",
              "      <td>80.85</td>\n",
              "      <td>271</td>\n",
              "      <td>168</td>\n",
              "      <td>4230</td>\n",
              "      <td>2</td>\n",
              "      <td>1.8</td>\n",
              "      <td>16</td>\n",
              "      <td>...</td>\n",
              "      <td>1</td>\n",
              "      <td>0</td>\n",
              "      <td>0</td>\n",
              "      <td>0</td>\n",
              "      <td>0</td>\n",
              "      <td>0</td>\n",
              "      <td>1</td>\n",
              "      <td>0</td>\n",
              "      <td>0</td>\n",
              "      <td>0</td>\n",
              "    </tr>\n",
              "    <tr>\n",
              "      <th>1</th>\n",
              "      <td>11</td>\n",
              "      <td>12</td>\n",
              "      <td>6.20</td>\n",
              "      <td>81.60</td>\n",
              "      <td>402</td>\n",
              "      <td>205</td>\n",
              "      <td>5000</td>\n",
              "      <td>4</td>\n",
              "      <td>1.8</td>\n",
              "      <td>64</td>\n",
              "      <td>...</td>\n",
              "      <td>1</td>\n",
              "      <td>0</td>\n",
              "      <td>0</td>\n",
              "      <td>0</td>\n",
              "      <td>0</td>\n",
              "      <td>0</td>\n",
              "      <td>1</td>\n",
              "      <td>0</td>\n",
              "      <td>0</td>\n",
              "      <td>0</td>\n",
              "    </tr>\n",
              "    <tr>\n",
              "      <th>2</th>\n",
              "      <td>13</td>\n",
              "      <td>25</td>\n",
              "      <td>6.30</td>\n",
              "      <td>83.84</td>\n",
              "      <td>409</td>\n",
              "      <td>169</td>\n",
              "      <td>3500</td>\n",
              "      <td>6</td>\n",
              "      <td>2.0</td>\n",
              "      <td>64</td>\n",
              "      <td>...</td>\n",
              "      <td>1</td>\n",
              "      <td>0</td>\n",
              "      <td>0</td>\n",
              "      <td>0</td>\n",
              "      <td>0</td>\n",
              "      <td>0</td>\n",
              "      <td>1</td>\n",
              "      <td>0</td>\n",
              "      <td>0</td>\n",
              "      <td>0</td>\n",
              "    </tr>\n",
              "    <tr>\n",
              "      <th>3</th>\n",
              "      <td>16</td>\n",
              "      <td>16</td>\n",
              "      <td>6.30</td>\n",
              "      <td>83.84</td>\n",
              "      <td>409</td>\n",
              "      <td>169</td>\n",
              "      <td>3500</td>\n",
              "      <td>4</td>\n",
              "      <td>2.0</td>\n",
              "      <td>64</td>\n",
              "      <td>...</td>\n",
              "      <td>1</td>\n",
              "      <td>0</td>\n",
              "      <td>0</td>\n",
              "      <td>0</td>\n",
              "      <td>0</td>\n",
              "      <td>0</td>\n",
              "      <td>1</td>\n",
              "      <td>0</td>\n",
              "      <td>0</td>\n",
              "      <td>0</td>\n",
              "    </tr>\n",
              "    <tr>\n",
              "      <th>4</th>\n",
              "      <td>19</td>\n",
              "      <td>20</td>\n",
              "      <td>5.99</td>\n",
              "      <td>77.43</td>\n",
              "      <td>403</td>\n",
              "      <td>181</td>\n",
              "      <td>4000</td>\n",
              "      <td>4</td>\n",
              "      <td>1.8</td>\n",
              "      <td>64</td>\n",
              "      <td>...</td>\n",
              "      <td>1</td>\n",
              "      <td>0</td>\n",
              "      <td>0</td>\n",
              "      <td>0</td>\n",
              "      <td>0</td>\n",
              "      <td>0</td>\n",
              "      <td>1</td>\n",
              "      <td>0</td>\n",
              "      <td>0</td>\n",
              "      <td>0</td>\n",
              "    </tr>\n",
              "  </tbody>\n",
              "</table>\n",
              "<p>5 rows × 87 columns</p>\n",
              "</div>"
            ],
            "text/plain": [
              "   PhoneId  Resolution  Screen Size  Screen to Body Ratio (calculated)  \\\n",
              "0        3           5         6.20                              80.85   \n",
              "1       11          12         6.20                              81.60   \n",
              "2       13          25         6.30                              83.84   \n",
              "3       16          16         6.30                              83.84   \n",
              "4       19          20         5.99                              77.43   \n",
              "\n",
              "   Pixel Density  Weight  Capacity  RAM  Processor_frequency  Internal Memory  \\\n",
              "0            271     168      4230    2                  1.8               16   \n",
              "1            402     205      5000    4                  1.8               64   \n",
              "2            409     169      3500    6                  2.0               64   \n",
              "3            409     169      3500    4                  2.0               64   \n",
              "4            403     181      4000    4                  1.8               64   \n",
              "\n",
              "          ...          SIM Slot(s)_Dual SIM, GSM+GSM, Dual VoLTE  \\\n",
              "0         ...                                                  1   \n",
              "1         ...                                                  1   \n",
              "2         ...                                                  1   \n",
              "3         ...                                                  1   \n",
              "4         ...                                                  1   \n",
              "\n",
              "   SIM Slot(s)_Single SIM, GSM  Num_cores_312  Num_cores_Deca  Num_cores_Dual  \\\n",
              "0                            0              0               0               0   \n",
              "1                            0              0               0               0   \n",
              "2                            0              0               0               0   \n",
              "3                            0              0               0               0   \n",
              "4                            0              0               0               0   \n",
              "\n",
              "   Num_cores_Hexa  Num_cores_Octa  Num_cores_Other  Num_cores_Quad  \\\n",
              "0               0               1                0               0   \n",
              "1               0               1                0               0   \n",
              "2               0               1                0               0   \n",
              "3               0               1                0               0   \n",
              "4               0               1                0               0   \n",
              "\n",
              "   Num_cores_Tru-Octa  \n",
              "0                   0  \n",
              "1                   0  \n",
              "2                   0  \n",
              "3                   0  \n",
              "4                   0  \n",
              "\n",
              "[5 rows x 87 columns]"
            ]
          },
          "metadata": {
            "tags": []
          },
          "execution_count": 564
        }
      ]
    },
    {
      "metadata": {
        "id": "eH9JThmH4ef0",
        "colab_type": "code",
        "colab": {}
      },
      "cell_type": "code",
      "source": [
        "dropList = ['PhoneId', 'Capacity','RAM',\n",
        "       'Pixel Density', 'Weight','Screen Size','Internal Memory','Resolution',\n",
        "       'Height','Screen to Body Ratio (calculated)','Processor_frequency',\n",
        "       'SIM Slot(s)_Dual SIM, GSM+GSM',\n",
        "       'SIM Slot(s)_Dual SIM, GSM+GSM, Dual VoLTE',\n",
        "       'SIM Slot(s)_Single SIM, GSM',\n",
        "       'Num_cores_Dual', 'Num_cores_Hexa', 'Num_cores_Octa', 'Num_cores_Other',\n",
        "       'Num_cores_Quad', 'Sim1_2G', 'Sim1_3G', 'Sim1_4G',\n",
        "       'SIM 2_2G', 'SIM 2_3G', 'SIM 2_4G', 'SIM 2_Other',\n",
        "       'Brand_Asus','Brand_Blackberry',\n",
        "        'Brand_Do', 'Brand_Gionee','Brand_Yu','Brand_Panasonic',\n",
        "        'Brand_Honor',\n",
        "        'Brand_Infinix',  'Brand_Itel',\n",
        "         'Brand_Lava',\n",
        "       'Brand_Lenovo',\n",
        "       'Brand_Moto',\n",
        "       'Brand_Nokia',\n",
        "       'Brand_Oppo', \n",
        "        'Brand_Samsung',\n",
        "       'Brand_Tecno',  'Brand_Vivo',\n",
        "       'Brand_Xiaomi',\n",
        "       'os_name_Android' ,\n",
        "       'os_name_Other' , 'Rating',]\n"
      ],
      "execution_count": 0,
      "outputs": []
    },
    {
      "metadata": {
        "id": "6HRS-Z2S4w92",
        "colab_type": "code",
        "colab": {}
      },
      "cell_type": "code",
      "source": [
        "X = train_new.drop(dropList,axis=1)"
      ],
      "execution_count": 0,
      "outputs": []
    },
    {
      "metadata": {
        "id": "yqP2mk3849aD",
        "colab_type": "code",
        "colab": {}
      },
      "cell_type": "code",
      "source": [
        "y = [1 if k>=4 else 0 for k in train_new['Rating']]"
      ],
      "execution_count": 0,
      "outputs": []
    },
    {
      "metadata": {
        "id": "1yUD4fJv5ad5",
        "colab_type": "code",
        "colab": {}
      },
      "cell_type": "code",
      "source": [
        "Y = np.array(y)"
      ],
      "execution_count": 0,
      "outputs": []
    },
    {
      "metadata": {
        "id": "JxfUpG6y5ex9",
        "colab_type": "code",
        "outputId": "5c80468d-e9e5-44f4-9e32-a09c15bc7f19",
        "colab": {
          "base_uri": "https://localhost:8080/",
          "height": 35
        }
      },
      "cell_type": "code",
      "source": [
        "X.shape"
      ],
      "execution_count": 569,
      "outputs": [
        {
          "output_type": "execute_result",
          "data": {
            "text/plain": [
              "(341, 41)"
            ]
          },
          "metadata": {
            "tags": []
          },
          "execution_count": 569
        }
      ]
    },
    {
      "metadata": {
        "id": "YjodyxIX5mZZ",
        "colab_type": "code",
        "colab": {}
      },
      "cell_type": "code",
      "source": [
        "X[ 'Num_cores_Deca'] = [0 if k==1 else 1 for k in X[ 'Num_cores_Deca']]"
      ],
      "execution_count": 0,
      "outputs": []
    },
    {
      "metadata": {
        "id": "lDO3mOI46DTu",
        "colab_type": "code",
        "colab": {}
      },
      "cell_type": "code",
      "source": [
        "X[ 'os_name_Blackberry'] = [0 if k==1 else 1 for k in X[ 'os_name_Blackberry']]"
      ],
      "execution_count": 0,
      "outputs": []
    },
    {
      "metadata": {
        "id": "x6AfrPRt6NnT",
        "colab_type": "code",
        "colab": {}
      },
      "cell_type": "code",
      "source": [
        "X[ 'Brand_Intex'] = [0 if k==1 else 1 for k in X[ 'Brand_Intex']]"
      ],
      "execution_count": 0,
      "outputs": []
    },
    {
      "metadata": {
        "id": "R3K_wlwg6Zbr",
        "colab_type": "code",
        "colab": {}
      },
      "cell_type": "code",
      "source": [
        "X['os_name_Tizen'] = [0 if k==1 else 1 for k in X['os_name_Tizen']]"
      ],
      "execution_count": 0,
      "outputs": []
    },
    {
      "metadata": {
        "id": "WoDEYFvv6nCc",
        "colab_type": "code",
        "colab": {}
      },
      "cell_type": "code",
      "source": [
        "X['Brand_Karbonn',] = [0 if k==1 else 1 for k in X['Brand_Karbonn']]"
      ],
      "execution_count": 0,
      "outputs": []
    },
    {
      "metadata": {
        "id": "wPHXf4_56y7m",
        "colab_type": "code",
        "colab": {}
      },
      "cell_type": "code",
      "source": [
        "X['Brand_iVooMi'] = [0 if k==1 else 1 for k in X['Brand_iVooMi']]"
      ],
      "execution_count": 0,
      "outputs": []
    },
    {
      "metadata": {
        "id": "W4fkgIt07AS7",
        "colab_type": "code",
        "colab": {}
      },
      "cell_type": "code",
      "source": [
        "X['Brand_VOTO'] = [0 if k==1 else 1 for k in X['Brand_VOTO']]"
      ],
      "execution_count": 0,
      "outputs": []
    },
    {
      "metadata": {
        "id": "DZmcgV8m7LHP",
        "colab_type": "code",
        "colab": {}
      },
      "cell_type": "code",
      "source": [
        "X['os_name_KAI'] = [0 if k==1 else 1 for k in X['os_name_KAI']]"
      ],
      "execution_count": 0,
      "outputs": []
    },
    {
      "metadata": {
        "id": "m8YbnrRa7T4T",
        "colab_type": "code",
        "colab": {}
      },
      "cell_type": "code",
      "source": [
        "X[ 'Brand_10.or'] = [0 if k==1 else 1 for k in X[ 'Brand_10.or']]"
      ],
      "execution_count": 0,
      "outputs": []
    },
    {
      "metadata": {
        "id": "ct61is-p7bK-",
        "colab_type": "code",
        "colab": {}
      },
      "cell_type": "code",
      "source": [
        "X['Brand_Reliance'] = [0 if k==1 else 1 for k in X['Brand_Reliance']]"
      ],
      "execution_count": 0,
      "outputs": []
    },
    {
      "metadata": {
        "id": "qvQSd8t27e8F",
        "colab_type": "code",
        "colab": {}
      },
      "cell_type": "code",
      "source": [
        "X['Brand_Nubia'] = [0 if k==1 else 1 for k in X['Brand_Nubia']]"
      ],
      "execution_count": 0,
      "outputs": []
    },
    {
      "metadata": {
        "id": "-yxZ7JCZ7guc",
        "colab_type": "code",
        "colab": {}
      },
      "cell_type": "code",
      "source": [
        "X['Brand_Razer'] = [0 if k==1 else 1 for k in X['Brand_Razer']]"
      ],
      "execution_count": 0,
      "outputs": []
    },
    {
      "metadata": {
        "id": "9KaepN9F7hFo",
        "colab_type": "code",
        "colab": {}
      },
      "cell_type": "code",
      "source": [
        "X['Brand_Coolpad'] = [0 if k==1 else 1 for k in X['Brand_Coolpad']]"
      ],
      "execution_count": 0,
      "outputs": []
    },
    {
      "metadata": {
        "id": "DwDOs0pN7mke",
        "colab_type": "code",
        "colab": {}
      },
      "cell_type": "code",
      "source": [
        "X['Brand_Jivi'] = [0 if k==1 else 1 for k in X['Brand_Jivi']]"
      ],
      "execution_count": 0,
      "outputs": []
    },
    {
      "metadata": {
        "id": "M5S91aib7hot",
        "colab_type": "code",
        "colab": {}
      },
      "cell_type": "code",
      "source": [
        "X['Brand_InFocus'] = [0 if k==1 else 1 for k in X['Brand_InFocus']]"
      ],
      "execution_count": 0,
      "outputs": []
    },
    {
      "metadata": {
        "id": "xhnKPjGJ7iQ5",
        "colab_type": "code",
        "colab": {}
      },
      "cell_type": "code",
      "source": [
        "X['Brand_Lyf'] = [0 if k==1 else 1 for k in X['Brand_Lyf']]"
      ],
      "execution_count": 0,
      "outputs": []
    },
    {
      "metadata": {
        "id": "fI6ahKH-7ism",
        "colab_type": "code",
        "colab": {}
      },
      "cell_type": "code",
      "source": [
        "X['Brand_Lephone'] = [0 if k==1 else 1 for k in X['Brand_Lephone']]"
      ],
      "execution_count": 0,
      "outputs": []
    },
    {
      "metadata": {
        "id": "eE7hAlD7Fk60",
        "colab_type": "code",
        "colab": {}
      },
      "cell_type": "code",
      "source": [
        ""
      ],
      "execution_count": 0,
      "outputs": []
    },
    {
      "metadata": {
        "id": "q_TsWq2P8l12",
        "colab_type": "code",
        "colab": {}
      },
      "cell_type": "code",
      "source": [
        "X_train, X_test, Y_train, Y_test = train_test_split(X, Y, test_size=0.1, stratify = Y, random_state=42)"
      ],
      "execution_count": 0,
      "outputs": []
    },
    {
      "metadata": {
        "id": "2-xfdHB48vWD",
        "colab_type": "code",
        "outputId": "e2052e71-2233-40cb-de20-6023545629b8",
        "colab": {
          "base_uri": "https://localhost:8080/",
          "height": 2322
        }
      },
      "cell_type": "code",
      "source": [
        "print(X_train.mean(), X_test.mean(), X.mean())"
      ],
      "execution_count": 588,
      "outputs": [
        {
          "output_type": "stream",
          "text": [
            "os_name_Blackberry                0.993464\n",
            "os_name_KAI                       0.993464\n",
            "os_name_Nokia                     0.003268\n",
            "os_name_Tizen                     0.996732\n",
            "os_name_iOS                       0.058824\n",
            "Brand_10.or                       0.993464\n",
            "Brand_Apple                       0.058824\n",
            "Brand_Billion                     0.000000\n",
            "Brand_Comio                       0.003268\n",
            "Brand_Coolpad                     0.996732\n",
            "Brand_Google                      0.009804\n",
            "Brand_HTC                         0.019608\n",
            "Brand_Huawei                      0.016340\n",
            "Brand_InFocus                     0.990196\n",
            "Brand_Intex                       0.990196\n",
            "Brand_Jivi                        0.996732\n",
            "Brand_Karbonn                     0.006536\n",
            "Brand_LG                          0.026144\n",
            "Brand_LeEco                       0.003268\n",
            "Brand_Lephone                     1.000000\n",
            "Brand_Lyf                         1.000000\n",
            "Brand_Meizu                       0.006536\n",
            "Brand_Micromax                    0.042484\n",
            "Brand_Mobiistar                   0.013072\n",
            "Brand_Motorola                    0.003268\n",
            "Brand_Nubia                       0.996732\n",
            "Brand_OPPO                        0.039216\n",
            "Brand_OnePlus                     0.009804\n",
            "Brand_Razer                       0.996732\n",
            "Brand_Realme                      0.013072\n",
            "Brand_Reliance                    0.996732\n",
            "Brand_Sony                        0.016340\n",
            "Brand_Spice                       0.000000\n",
            "Brand_Ulefone                     0.003268\n",
            "Brand_VOTO                        1.000000\n",
            "Brand_Xiaomi Poco                 0.009804\n",
            "Brand_iVooMi                      0.996732\n",
            "SIM Slot(s)_Dual SIM, GSM+CDMA    0.003268\n",
            "Num_cores_312                     0.003268\n",
            "Num_cores_Deca                    0.993464\n",
            "Num_cores_Tru-Octa                0.003268\n",
            "(Brand_Karbonn,)                  0.993464\n",
            "dtype: float64 os_name_Blackberry                1.000000\n",
            "os_name_KAI                       1.000000\n",
            "os_name_Nokia                     0.000000\n",
            "os_name_Tizen                     1.000000\n",
            "os_name_iOS                       0.028571\n",
            "Brand_10.or                       1.000000\n",
            "Brand_Apple                       0.028571\n",
            "Brand_Billion                     0.000000\n",
            "Brand_Comio                       0.000000\n",
            "Brand_Coolpad                     0.971429\n",
            "Brand_Google                      0.028571\n",
            "Brand_HTC                         0.000000\n",
            "Brand_Huawei                      0.028571\n",
            "Brand_InFocus                     1.000000\n",
            "Brand_Intex                       0.971429\n",
            "Brand_Jivi                        1.000000\n",
            "Brand_Karbonn                     0.000000\n",
            "Brand_LG                          0.028571\n",
            "Brand_LeEco                       0.000000\n",
            "Brand_Lephone                     0.971429\n",
            "Brand_Lyf                         0.971429\n",
            "Brand_Meizu                       0.000000\n",
            "Brand_Micromax                    0.057143\n",
            "Brand_Mobiistar                   0.000000\n",
            "Brand_Motorola                    0.028571\n",
            "Brand_Nubia                       1.000000\n",
            "Brand_OPPO                        0.057143\n",
            "Brand_OnePlus                     0.000000\n",
            "Brand_Razer                       1.000000\n",
            "Brand_Realme                      0.000000\n",
            "Brand_Reliance                    1.000000\n",
            "Brand_Sony                        0.114286\n",
            "Brand_Spice                       0.000000\n",
            "Brand_Ulefone                     0.000000\n",
            "Brand_VOTO                        0.971429\n",
            "Brand_Xiaomi Poco                 0.000000\n",
            "Brand_iVooMi                      1.000000\n",
            "SIM Slot(s)_Dual SIM, GSM+CDMA    0.000000\n",
            "Num_cores_312                     0.000000\n",
            "Num_cores_Deca                    1.000000\n",
            "Num_cores_Tru-Octa                0.000000\n",
            "(Brand_Karbonn,)                  1.000000\n",
            "dtype: float64 os_name_Blackberry                0.994135\n",
            "os_name_KAI                       0.994135\n",
            "os_name_Nokia                     0.002933\n",
            "os_name_Tizen                     0.997067\n",
            "os_name_iOS                       0.055718\n",
            "Brand_10.or                       0.994135\n",
            "Brand_Apple                       0.055718\n",
            "Brand_Billion                     0.000000\n",
            "Brand_Comio                       0.002933\n",
            "Brand_Coolpad                     0.994135\n",
            "Brand_Google                      0.011730\n",
            "Brand_HTC                         0.017595\n",
            "Brand_Huawei                      0.017595\n",
            "Brand_InFocus                     0.991202\n",
            "Brand_Intex                       0.988270\n",
            "Brand_Jivi                        0.997067\n",
            "Brand_Karbonn                     0.005865\n",
            "Brand_LG                          0.026393\n",
            "Brand_LeEco                       0.002933\n",
            "Brand_Lephone                     0.997067\n",
            "Brand_Lyf                         0.997067\n",
            "Brand_Meizu                       0.005865\n",
            "Brand_Micromax                    0.043988\n",
            "Brand_Mobiistar                   0.011730\n",
            "Brand_Motorola                    0.005865\n",
            "Brand_Nubia                       0.997067\n",
            "Brand_OPPO                        0.041056\n",
            "Brand_OnePlus                     0.008798\n",
            "Brand_Razer                       0.997067\n",
            "Brand_Realme                      0.011730\n",
            "Brand_Reliance                    0.997067\n",
            "Brand_Sony                        0.026393\n",
            "Brand_Spice                       0.000000\n",
            "Brand_Ulefone                     0.002933\n",
            "Brand_VOTO                        0.997067\n",
            "Brand_Xiaomi Poco                 0.008798\n",
            "Brand_iVooMi                      0.997067\n",
            "SIM Slot(s)_Dual SIM, GSM+CDMA    0.002933\n",
            "Num_cores_312                     0.002933\n",
            "Num_cores_Deca                    0.994135\n",
            "Num_cores_Tru-Octa                0.002933\n",
            "(Brand_Karbonn,)                  0.994135\n",
            "dtype: float64\n"
          ],
          "name": "stdout"
        }
      ]
    },
    {
      "metadata": {
        "id": "MbSOCaVvAV-k",
        "colab_type": "code",
        "colab": {}
      },
      "cell_type": "code",
      "source": [
        "test_drop = ['PhoneId', 'Capacity','RAM',\n",
        "       'Pixel Density', 'Weight','Screen Size','Internal Memory','Resolution',\n",
        "       'Height','Screen to Body Ratio (calculated)','Processor_frequency',\n",
        "       'SIM Slot(s)_Dual SIM, GSM+GSM',\n",
        "       'SIM Slot(s)_Dual SIM, GSM+GSM, Dual VoLTE',\n",
        "       'SIM Slot(s)_Single SIM, GSM',\n",
        "       'Num_cores_Dual', 'Num_cores_Hexa', 'Num_cores_Octa', 'Num_cores_Other',\n",
        "       'Num_cores_Quad', 'Sim1_2G', 'Sim1_3G', 'Sim1_4G',\n",
        "       'SIM 2_2G', 'SIM 2_3G', 'SIM 2_4G', 'SIM 2_Other',\n",
        "       'Brand_Asus','Brand_Blackberry',\n",
        "        'Brand_Do', 'Brand_Gionee','Brand_Yu','Brand_Panasonic',\n",
        "        'Brand_Honor',\n",
        "        'Brand_Infinix',  'Brand_Itel',\n",
        "         'Brand_Lava',\n",
        "       'Brand_Lenovo',\n",
        "       'Brand_Moto',\n",
        "       'Brand_Nokia',\n",
        "       'Brand_Oppo', \n",
        "        'Brand_Samsung',\n",
        "       'Brand_Tecno',  'Brand_Vivo',\n",
        "       'Brand_Xiaomi',\n",
        "       'os_name_Android' ,\n",
        "       'os_name_Other']\n"
      ],
      "execution_count": 0,
      "outputs": []
    },
    {
      "metadata": {
        "id": "cjrrxk1__khk",
        "colab_type": "code",
        "colab": {}
      },
      "cell_type": "code",
      "source": [
        "Test = test_new.drop(test_drop,axis=1)"
      ],
      "execution_count": 0,
      "outputs": []
    },
    {
      "metadata": {
        "id": "uRJatv8W_zPk",
        "colab_type": "code",
        "outputId": "b1ef4b6a-f3bd-4551-c476-113df3f645f5",
        "colab": {
          "base_uri": "https://localhost:8080/",
          "height": 307
        }
      },
      "cell_type": "code",
      "source": [
        "Test.head()"
      ],
      "execution_count": 639,
      "outputs": [
        {
          "output_type": "execute_result",
          "data": {
            "text/html": [
              "<div>\n",
              "<style scoped>\n",
              "    .dataframe tbody tr th:only-of-type {\n",
              "        vertical-align: middle;\n",
              "    }\n",
              "\n",
              "    .dataframe tbody tr th {\n",
              "        vertical-align: top;\n",
              "    }\n",
              "\n",
              "    .dataframe thead th {\n",
              "        text-align: right;\n",
              "    }\n",
              "</style>\n",
              "<table border=\"1\" class=\"dataframe\">\n",
              "  <thead>\n",
              "    <tr style=\"text-align: right;\">\n",
              "      <th></th>\n",
              "      <th>os_name_Blackberry</th>\n",
              "      <th>os_name_KAI</th>\n",
              "      <th>os_name_Nokia</th>\n",
              "      <th>os_name_Tizen</th>\n",
              "      <th>os_name_iOS</th>\n",
              "      <th>Brand_10.or</th>\n",
              "      <th>Brand_Apple</th>\n",
              "      <th>Brand_Billion</th>\n",
              "      <th>Brand_Comio</th>\n",
              "      <th>Brand_Coolpad</th>\n",
              "      <th>...</th>\n",
              "      <th>Brand_Sony</th>\n",
              "      <th>Brand_Spice</th>\n",
              "      <th>Brand_Ulefone</th>\n",
              "      <th>Brand_VOTO</th>\n",
              "      <th>Brand_Xiaomi Poco</th>\n",
              "      <th>Brand_iVooMi</th>\n",
              "      <th>SIM Slot(s)_Dual SIM, GSM+CDMA</th>\n",
              "      <th>Num_cores_312</th>\n",
              "      <th>Num_cores_Deca</th>\n",
              "      <th>Num_cores_Tru-Octa</th>\n",
              "    </tr>\n",
              "  </thead>\n",
              "  <tbody>\n",
              "    <tr>\n",
              "      <th>0</th>\n",
              "      <td>0</td>\n",
              "      <td>0</td>\n",
              "      <td>0</td>\n",
              "      <td>0</td>\n",
              "      <td>0</td>\n",
              "      <td>0</td>\n",
              "      <td>0</td>\n",
              "      <td>0</td>\n",
              "      <td>0</td>\n",
              "      <td>0</td>\n",
              "      <td>...</td>\n",
              "      <td>0</td>\n",
              "      <td>0</td>\n",
              "      <td>0</td>\n",
              "      <td>0</td>\n",
              "      <td>0</td>\n",
              "      <td>0</td>\n",
              "      <td>0</td>\n",
              "      <td>0</td>\n",
              "      <td>0</td>\n",
              "      <td>0</td>\n",
              "    </tr>\n",
              "    <tr>\n",
              "      <th>1</th>\n",
              "      <td>0</td>\n",
              "      <td>0</td>\n",
              "      <td>0</td>\n",
              "      <td>0</td>\n",
              "      <td>0</td>\n",
              "      <td>0</td>\n",
              "      <td>0</td>\n",
              "      <td>0</td>\n",
              "      <td>0</td>\n",
              "      <td>0</td>\n",
              "      <td>...</td>\n",
              "      <td>0</td>\n",
              "      <td>0</td>\n",
              "      <td>0</td>\n",
              "      <td>0</td>\n",
              "      <td>0</td>\n",
              "      <td>0</td>\n",
              "      <td>0</td>\n",
              "      <td>0</td>\n",
              "      <td>0</td>\n",
              "      <td>0</td>\n",
              "    </tr>\n",
              "    <tr>\n",
              "      <th>2</th>\n",
              "      <td>0</td>\n",
              "      <td>0</td>\n",
              "      <td>0</td>\n",
              "      <td>0</td>\n",
              "      <td>0</td>\n",
              "      <td>0</td>\n",
              "      <td>0</td>\n",
              "      <td>0</td>\n",
              "      <td>0</td>\n",
              "      <td>0</td>\n",
              "      <td>...</td>\n",
              "      <td>0</td>\n",
              "      <td>0</td>\n",
              "      <td>0</td>\n",
              "      <td>0</td>\n",
              "      <td>0</td>\n",
              "      <td>0</td>\n",
              "      <td>0</td>\n",
              "      <td>0</td>\n",
              "      <td>0</td>\n",
              "      <td>0</td>\n",
              "    </tr>\n",
              "    <tr>\n",
              "      <th>3</th>\n",
              "      <td>0</td>\n",
              "      <td>0</td>\n",
              "      <td>0</td>\n",
              "      <td>0</td>\n",
              "      <td>0</td>\n",
              "      <td>0</td>\n",
              "      <td>0</td>\n",
              "      <td>0</td>\n",
              "      <td>0</td>\n",
              "      <td>0</td>\n",
              "      <td>...</td>\n",
              "      <td>0</td>\n",
              "      <td>0</td>\n",
              "      <td>0</td>\n",
              "      <td>0</td>\n",
              "      <td>0</td>\n",
              "      <td>0</td>\n",
              "      <td>0</td>\n",
              "      <td>0</td>\n",
              "      <td>0</td>\n",
              "      <td>0</td>\n",
              "    </tr>\n",
              "    <tr>\n",
              "      <th>4</th>\n",
              "      <td>0</td>\n",
              "      <td>0</td>\n",
              "      <td>0</td>\n",
              "      <td>0</td>\n",
              "      <td>0</td>\n",
              "      <td>0</td>\n",
              "      <td>0</td>\n",
              "      <td>0</td>\n",
              "      <td>0</td>\n",
              "      <td>0</td>\n",
              "      <td>...</td>\n",
              "      <td>0</td>\n",
              "      <td>0</td>\n",
              "      <td>0</td>\n",
              "      <td>0</td>\n",
              "      <td>0</td>\n",
              "      <td>0</td>\n",
              "      <td>0</td>\n",
              "      <td>0</td>\n",
              "      <td>0</td>\n",
              "      <td>0</td>\n",
              "    </tr>\n",
              "  </tbody>\n",
              "</table>\n",
              "<p>5 rows × 41 columns</p>\n",
              "</div>"
            ],
            "text/plain": [
              "   os_name_Blackberry  os_name_KAI  os_name_Nokia  os_name_Tizen  os_name_iOS  \\\n",
              "0                   0            0              0              0            0   \n",
              "1                   0            0              0              0            0   \n",
              "2                   0            0              0              0            0   \n",
              "3                   0            0              0              0            0   \n",
              "4                   0            0              0              0            0   \n",
              "\n",
              "   Brand_10.or  Brand_Apple  Brand_Billion  Brand_Comio  Brand_Coolpad  \\\n",
              "0            0            0              0            0              0   \n",
              "1            0            0              0            0              0   \n",
              "2            0            0              0            0              0   \n",
              "3            0            0              0            0              0   \n",
              "4            0            0              0            0              0   \n",
              "\n",
              "          ...          Brand_Sony  Brand_Spice  Brand_Ulefone  Brand_VOTO  \\\n",
              "0         ...                   0            0              0           0   \n",
              "1         ...                   0            0              0           0   \n",
              "2         ...                   0            0              0           0   \n",
              "3         ...                   0            0              0           0   \n",
              "4         ...                   0            0              0           0   \n",
              "\n",
              "   Brand_Xiaomi Poco  Brand_iVooMi  SIM Slot(s)_Dual SIM, GSM+CDMA  \\\n",
              "0                  0             0                               0   \n",
              "1                  0             0                               0   \n",
              "2                  0             0                               0   \n",
              "3                  0             0                               0   \n",
              "4                  0             0                               0   \n",
              "\n",
              "   Num_cores_312  Num_cores_Deca  Num_cores_Tru-Octa  \n",
              "0              0               0                   0  \n",
              "1              0               0                   0  \n",
              "2              0               0                   0  \n",
              "3              0               0                   0  \n",
              "4              0               0                   0  \n",
              "\n",
              "[5 rows x 41 columns]"
            ]
          },
          "metadata": {
            "tags": []
          },
          "execution_count": 639
        }
      ]
    },
    {
      "metadata": {
        "id": "EYv_rXKCALGB",
        "colab_type": "code",
        "outputId": "0457f872-6b66-4a1e-f8e1-2790675c4d01",
        "colab": {
          "base_uri": "https://localhost:8080/",
          "height": 35
        }
      },
      "cell_type": "code",
      "source": [
        "print(test_new.shape , Test.shape)"
      ],
      "execution_count": 640,
      "outputs": [
        {
          "output_type": "stream",
          "text": [
            "(119, 87) (119, 41)\n"
          ],
          "name": "stdout"
        }
      ]
    },
    {
      "metadata": {
        "id": "WLbxhnhrArx4",
        "colab_type": "code",
        "colab": {}
      },
      "cell_type": "code",
      "source": [
        "Test[ 'Num_cores_Deca'] = [0 if k==1 else 1 for k in Test[ 'Num_cores_Deca']]\n",
        "Test[ 'os_name_Blackberry'] = [0 if k==1 else 1 for k in Test[ 'os_name_Blackberry']]\n",
        "Test['Brand_Intex'] = [0 if k==1 else 1 for k in Test[ 'Brand_Intex']]\n",
        "Test['os_name_Tizen'] = [0 if k==1 else 1 for k in Test['os_name_Tizen']]\n",
        "Test['Brand_Karbonn',] = [0 if k==1 else 1 for k in Test['Brand_Karbonn']]\n",
        "Test['Brand_iVooMi'] = [0 if k==1 else 1 for k in Test['Brand_iVooMi']]\n",
        "Test['Brand_VOTO'] = [0 if k==1 else 1 for k in Test['Brand_VOTO']]\n",
        "Test['os_name_KAI'] = [0 if k==1 else 1 for k in Test['os_name_KAI']]\n",
        "Test[ 'Brand_10.or'] = [0 if k==1 else 1 for k in Test[ 'Brand_10.or']]\n",
        "Test['Brand_Reliance'] = [0 if k==1 else 1 for k in Test['Brand_Reliance']]\n",
        "Test['Brand_Nubia'] = [0 if k==1 else 1 for k in Test['Brand_Nubia']]\n",
        "Test['Brand_Razer'] = [0 if k==1 else 1 for k in Test['Brand_Razer']]\n",
        "Test['Brand_Coolpad'] = [0 if k==1 else 1 for k in Test['Brand_Coolpad']]\n",
        "Test['Brand_Jivi'] = [0 if k==1 else 1 for k in Test['Brand_Jivi']]\n",
        "Test['Brand_InFocus'] = [0 if k==1 else 1 for k in Test['Brand_InFocus']]\n",
        "Test['Brand_Lyf'] = [0 if k==1 else 1 for k in Test['Brand_Lyf']]\n",
        "Test['Brand_Lephone'] = [0 if k==1 else 1 for k in Test['Brand_Lephone']]\n"
      ],
      "execution_count": 0,
      "outputs": []
    },
    {
      "metadata": {
        "id": "ksW-FwEXLhO5",
        "colab_type": "code",
        "colab": {}
      },
      "cell_type": "code",
      "source": [
        ""
      ],
      "execution_count": 0,
      "outputs": []
    },
    {
      "metadata": {
        "id": "CX1UqeKICzz6",
        "colab_type": "code",
        "colab": {}
      },
      "cell_type": "code",
      "source": [
        "Test1 = np.array(Test)"
      ],
      "execution_count": 0,
      "outputs": []
    },
    {
      "metadata": {
        "id": "Tjza5DvxS_1L",
        "colab_type": "text"
      },
      "cell_type": "markdown",
      "source": [
        "## Perceptron"
      ]
    },
    {
      "metadata": {
        "id": "-QaA7qqKTDAH",
        "colab_type": "code",
        "colab": {}
      },
      "cell_type": "code",
      "source": [
        "class Perceptron:\n",
        "  \n",
        "  def __init__ (self):\n",
        "    self.w = None\n",
        "    self.b = None\n",
        "    \n",
        "  def model(self, x):\n",
        "    return 1 if (np.dot(self.w, x) >= self.b) else 0\n",
        "    \n",
        "  def predict(self, X):\n",
        "    Y = []\n",
        "    for x in X:\n",
        "      result = self.model(x)\n",
        "      Y.append(result)\n",
        "    return np.array(Y)\n",
        "    \n",
        "  def fit(self, X, Y, epochs = 1, lr = 1):\n",
        "    \n",
        "    self.w = np.ones(X.shape[1])\n",
        "    self.b = 0\n",
        "    \n",
        "    accuracy = {}\n",
        "    max_accuracy = 0\n",
        "    \n",
        "    wt_matrix = []\n",
        "    \n",
        "    for i in range(epochs):\n",
        "      for x, y in zip(X, Y):\n",
        "        y_pred = self.model(x)\n",
        "        if y == 1 and y_pred == 0:\n",
        "          self.w = self.w + lr * x\n",
        "          self.b = self.b - lr * 1\n",
        "        elif y == 0 and y_pred == 1:\n",
        "          self.w = self.w - lr * x\n",
        "          self.b = self.b + lr * 1\n",
        "          \n",
        "      wt_matrix.append(self.w)    \n",
        "          \n",
        "      accuracy[i] = accuracy_score(self.predict(X), Y)\n",
        "      if (accuracy[i] > max_accuracy):\n",
        "        max_accuracy = accuracy[i]\n",
        "        chkptw = self.w\n",
        "        chkptb = self.b\n",
        "        \n",
        "    self.w = chkptw\n",
        "    self.b = chkptb\n",
        "        \n",
        "    print(max_accuracy)\n",
        "    \n",
        "    plt.plot(accuracy.values())\n",
        "    plt.ylim([0, 1])\n",
        "    plt.show()\n",
        "    print(self.w)\n",
        "    print(self.b)\n",
        "    \n",
        "    return np.array(wt_matrix)"
      ],
      "execution_count": 0,
      "outputs": []
    },
    {
      "metadata": {
        "id": "JnZxtAGUTkxA",
        "colab_type": "code",
        "colab": {}
      },
      "cell_type": "code",
      "source": [
        "perceptron = Perceptron()\n"
      ],
      "execution_count": 0,
      "outputs": []
    },
    {
      "metadata": {
        "id": "fCbqS8mUTnzY",
        "colab_type": "code",
        "colab": {
          "base_uri": "https://localhost:8080/",
          "height": 587
        },
        "outputId": "79dfe8c3-19cb-44db-b9ba-2b17b9a4756e"
      },
      "cell_type": "code",
      "source": [
        "wt_matrix = perceptron.fit(X_train1, Y_train, 1000, 0.001)"
      ],
      "execution_count": 633,
      "outputs": [
        {
          "output_type": "stream",
          "text": [
            "0.8071895424836601\n"
          ],
          "name": "stdout"
        },
        {
          "output_type": "display_data",
          "data": {
            "image/png": "[encoded data removed]",
            "text/plain": [
              "<Figure size 576x396 with 1 Axes>"
            ]
          },
          "metadata": {
            "tags": []
          }
        },
        {
          "output_type": "stream",
          "text": [
            "[ 3.60000000e-02  3.60000000e-02  1.00000000e+00  2.70000000e-02\n",
            "  1.00000000e+00  3.60000000e-02  1.00000000e+00  1.00000000e+00\n",
            "  1.00000000e+00  2.60000000e-02  1.00000000e+00 -1.00000000e-03\n",
            "  1.00000000e+00  4.70000000e-02  4.70000000e-02  2.70000000e-02\n",
            "  5.03000000e-01 -8.81239526e-16  1.00000000e+00  1.60000000e-02\n",
            "  1.60000000e-02  1.00000000e+00 -1.00000000e-03 -8.81239526e-16\n",
            "  1.00000000e+00  2.70000000e-02  1.00000000e+00  1.00000000e+00\n",
            "  2.60000000e-02  1.00000000e+00  2.60000000e-02  1.80000000e-02\n",
            "  1.00000000e+00  1.00000000e+00  1.60000000e-02  1.00000000e+00\n",
            "  2.60000000e-02  1.00000000e+00  1.00000000e+00  3.70000000e-02\n",
            "  1.00000000e+00  5.13000000e-01]\n",
            "0.9840000000000008\n"
          ],
          "name": "stdout"
        }
      ]
    },
    {
      "metadata": {
        "id": "1_Ia_r5TTz8p",
        "colab_type": "code",
        "colab": {
          "base_uri": "https://localhost:8080/",
          "height": 35
        },
        "outputId": "0a57b4b5-b281-4528-8c6c-affd818359cd"
      },
      "cell_type": "code",
      "source": [
        "Y_pred_test = perceptron.predict(X_test1)\n",
        "print(accuracy_score(Y_pred_test, Y_test))"
      ],
      "execution_count": 634,
      "outputs": [
        {
          "output_type": "stream",
          "text": [
            "0.8857142857142857\n"
          ],
          "name": "stdout"
        }
      ]
    },
    {
      "metadata": {
        "id": "kNTkdDgIUDk-",
        "colab_type": "code",
        "colab": {
          "base_uri": "https://localhost:8080/",
          "height": 347
        },
        "outputId": "0ddcd756-517a-4d1f-af4d-ac0a931f5624"
      },
      "cell_type": "code",
      "source": [
        "plt.plot(wt_matrix[-1,:])\n",
        "plt.show()"
      ],
      "execution_count": 635,
      "outputs": [
        {
          "output_type": "display_data",
          "data": {
            "image/png": "[encoded data removed]",
            "text/plain": [
              "<Figure size 576x396 with 1 Axes>"
            ]
          },
          "metadata": {
            "tags": []
          }
        }
      ]
    },
    {
      "metadata": {
        "id": "298T6MzIT-bS",
        "colab_type": "code",
        "colab": {}
      },
      "cell_type": "code",
      "source": [
        "Y_pred_test = perceptron.predict(Test1)"
      ],
      "execution_count": 0,
      "outputs": []
    },
    {
      "metadata": {
        "id": "0BXK1tAGVo4q",
        "colab_type": "code",
        "colab": {
          "base_uri": "https://localhost:8080/",
          "height": 90
        },
        "outputId": "a58f6633-346a-472d-bb11-48399d50c34a"
      },
      "cell_type": "code",
      "source": [
        "print(Y_pred_test)"
      ],
      "execution_count": 645,
      "outputs": [
        {
          "output_type": "stream",
          "text": [
            "[1 1 1 1 1 1 1 1 1 1 1 1 1 1 1 1 1 1 1 1 1 1 1 1 1 1 1 1 1 1 1 1 1 1 1 1 0\n",
            " 1 1 1 1 1 1 1 1 1 1 1 0 1 1 0 1 1 1 0 1 1 1 1 0 1 1 1 1 1 1 1 1 1 1 1 1 1\n",
            " 1 1 1 1 1 1 1 1 1 1 1 1 1 1 1 1 0 1 1 1 1 1 1 1 0 1 1 1 1 1 0 1 1 1 0 1 0\n",
            " 0 1 0 0 1 1 1 0]\n"
          ],
          "name": "stdout"
        }
      ]
    },
    {
      "metadata": {
        "id": "g2aI_G5y4VVj",
        "colab_type": "text"
      },
      "cell_type": "markdown",
      "source": [
        "## Dummy Solution"
      ]
    },
    {
      "metadata": {
        "id": "fN6HjS1K4VVk",
        "colab_type": "code",
        "outputId": "983e9632-ec6f-4b03-d969-b020b25041d8",
        "colab": {
          "base_uri": "https://localhost:8080/",
          "height": 206
        }
      },
      "cell_type": "code",
      "source": [
        "submission = pd.DataFrame({'PhoneId':test_new['PhoneId'], 'Class':Y_pred_test})\n",
        "submission = submission[['PhoneId', 'Class']]\n",
        "submission.head()"
      ],
      "execution_count": 644,
      "outputs": [
        {
          "output_type": "execute_result",
          "data": {
            "text/html": [
              "<div>\n",
              "<style scoped>\n",
              "    .dataframe tbody tr th:only-of-type {\n",
              "        vertical-align: middle;\n",
              "    }\n",
              "\n",
              "    .dataframe tbody tr th {\n",
              "        vertical-align: top;\n",
              "    }\n",
              "\n",
              "    .dataframe thead th {\n",
              "        text-align: right;\n",
              "    }\n",
              "</style>\n",
              "<table border=\"1\" class=\"dataframe\">\n",
              "  <thead>\n",
              "    <tr style=\"text-align: right;\">\n",
              "      <th></th>\n",
              "      <th>PhoneId</th>\n",
              "      <th>Class</th>\n",
              "    </tr>\n",
              "  </thead>\n",
              "  <tbody>\n",
              "    <tr>\n",
              "      <th>0</th>\n",
              "      <td>3</td>\n",
              "      <td>1</td>\n",
              "    </tr>\n",
              "    <tr>\n",
              "      <th>1</th>\n",
              "      <td>11</td>\n",
              "      <td>1</td>\n",
              "    </tr>\n",
              "    <tr>\n",
              "      <th>2</th>\n",
              "      <td>13</td>\n",
              "      <td>1</td>\n",
              "    </tr>\n",
              "    <tr>\n",
              "      <th>3</th>\n",
              "      <td>16</td>\n",
              "      <td>1</td>\n",
              "    </tr>\n",
              "    <tr>\n",
              "      <th>4</th>\n",
              "      <td>19</td>\n",
              "      <td>1</td>\n",
              "    </tr>\n",
              "  </tbody>\n",
              "</table>\n",
              "</div>"
            ],
            "text/plain": [
              "   PhoneId  Class\n",
              "0        3      1\n",
              "1       11      1\n",
              "2       13      1\n",
              "3       16      1\n",
              "4       19      1"
            ]
          },
          "metadata": {
            "tags": []
          },
          "execution_count": 644
        }
      ]
    },
    {
      "metadata": {
        "id": "FK4o_luy4VVx",
        "colab_type": "code",
        "colab": {}
      },
      "cell_type": "code",
      "source": [
        "submission.to_csv(\"submissionPercep.csv\", index=False)"
      ],
      "execution_count": 0,
      "outputs": []
    },
    {
      "metadata": {
        "id": "-vqr_I9z4VV7",
        "colab_type": "code",
        "colab": {
          "base_uri": "https://localhost:8080/",
          "height": 35
        },
        "outputId": "2859236e-6f95-4a0c-9ce9-aea75cb66273"
      },
      "cell_type": "code",
      "source": [
        "\"\"\"\n",
        "WRITE YOUR MODELLING CODE HERE\n",
        "\"\"\""
      ],
      "execution_count": 611,
      "outputs": [
        {
          "output_type": "execute_result",
          "data": {
            "text/plain": [
              "'\\nWRITE YOUR MODELLING CODE HERE\\n'"
            ]
          },
          "metadata": {
            "tags": []
          },
          "execution_count": 611
        }
      ]
    },
    {
      "metadata": {
        "id": "N_k_Q4DI4bv-",
        "colab_type": "code",
        "outputId": "df361b2e-cfd1-4497-f083-53e6c4f6c9d1",
        "colab": {
          "base_uri": "https://localhost:8080/",
          "height": 206
        }
      },
      "cell_type": "code",
      "source": [
        "submission.tail()"
      ],
      "execution_count": 647,
      "outputs": [
        {
          "output_type": "execute_result",
          "data": {
            "text/html": [
              "<div>\n",
              "<style scoped>\n",
              "    .dataframe tbody tr th:only-of-type {\n",
              "        vertical-align: middle;\n",
              "    }\n",
              "\n",
              "    .dataframe tbody tr th {\n",
              "        vertical-align: top;\n",
              "    }\n",
              "\n",
              "    .dataframe thead th {\n",
              "        text-align: right;\n",
              "    }\n",
              "</style>\n",
              "<table border=\"1\" class=\"dataframe\">\n",
              "  <thead>\n",
              "    <tr style=\"text-align: right;\">\n",
              "      <th></th>\n",
              "      <th>PhoneId</th>\n",
              "      <th>Class</th>\n",
              "    </tr>\n",
              "  </thead>\n",
              "  <tbody>\n",
              "    <tr>\n",
              "      <th>114</th>\n",
              "      <td>464</td>\n",
              "      <td>0</td>\n",
              "    </tr>\n",
              "    <tr>\n",
              "      <th>115</th>\n",
              "      <td>467</td>\n",
              "      <td>1</td>\n",
              "    </tr>\n",
              "    <tr>\n",
              "      <th>116</th>\n",
              "      <td>469</td>\n",
              "      <td>1</td>\n",
              "    </tr>\n",
              "    <tr>\n",
              "      <th>117</th>\n",
              "      <td>471</td>\n",
              "      <td>1</td>\n",
              "    </tr>\n",
              "    <tr>\n",
              "      <th>118</th>\n",
              "      <td>473</td>\n",
              "      <td>0</td>\n",
              "    </tr>\n",
              "  </tbody>\n",
              "</table>\n",
              "</div>"
            ],
            "text/plain": [
              "     PhoneId  Class\n",
              "114      464      0\n",
              "115      467      1\n",
              "116      469      1\n",
              "117      471      1\n",
              "118      473      0"
            ]
          },
          "metadata": {
            "tags": []
          },
          "execution_count": 647
        }
      ]
    },
    {
      "metadata": {
        "id": "Juvyukg8Eosl",
        "colab_type": "code",
        "colab": {}
      },
      "cell_type": "code",
      "source": [
        ""
      ],
      "execution_count": 0,
      "outputs": []
    }
  ]
}